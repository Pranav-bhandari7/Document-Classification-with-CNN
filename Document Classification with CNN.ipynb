{
 "cells": [
  {
   "cell_type": "markdown",
   "metadata": {
    "colab_type": "text",
    "id": "mDMgSstPYv0P"
   },
   "source": [
    "# Text Classification:\n",
    "\n",
    "## Data\n",
    "<pre>\n",
    "1. we have total of 20 types of documents(Text files) and total 18828 documents(text files).\n",
    "2. You can download data from this <a href='https://drive.google.com/open?id=1rxD15nyeIPIAZ-J2VYPrDRZI66-TBWvM'>link</a>, in that you will get documents.rar folder. <br>If you unzip that, you will get total of 18828 documnets. document name is defined as'ClassLabel_DocumentNumberInThatLabel'. \n",
    "so from document name, you can extract the label for that document.\n",
    "4. Now our problem is to classify all the documents into any one of the class.\n",
    "5. Below we provided count plot of all the labels in our data. \n",
    "</pre>"
   ]
  },
  {
   "cell_type": "markdown",
   "metadata": {
    "colab_type": "text",
    "id": "VlqYFVI3Yv0k"
   },
   "source": [
    "#### sample document\n",
    "<pre>\n",
    "<font color='blue'>\n",
    "Subject: A word of advice\n",
    "From: jcopelan@nyx.cs.du.edu (The One and Only)\n",
    "\n",
    "In article < 65882@mimsy.umd.edu > mangoe@cs.umd.edu (Charley Wingate) writes:\n",
    ">\n",
    ">I've said 100 times that there is no \"alternative\" that should think you\n",
    ">might have caught on by now.  And there is no \"alternative\", but the point\n",
    ">is, \"rationality\" isn't an alternative either.  The problems of metaphysical\n",
    ">and religious knowledge are unsolvable-- or I should say, humans cannot\n",
    ">solve them.\n",
    "\n",
    "How does that saying go: Those who say it can't be done shouldn't interrupt\n",
    "those who are doing it.\n",
    "\n",
    "Jim\n",
    "--\n",
    "Have you washed your brain today?\n",
    "</font>\n",
    "</pre>"
   ]
  },
  {
   "cell_type": "code",
   "execution_count": 201,
   "metadata": {},
   "outputs": [],
   "source": [
    "from tqdm import tqdm\n",
    "import numpy as np\n",
    "import pandas as pd\n",
    "import os\n",
    "import pickle\n",
    "import re\n",
    "\n",
    "\n",
    "from tensorflow.keras.callbacks import EarlyStopping\n",
    "import matplotlib.pyplot as plt\n",
    "import seaborn as sns\n",
    "import datetime\n",
    "\n",
    "\n",
    "from keras.layers.convolutional import Conv1D\n",
    "from keras.callbacks import TensorBoard,ModelCheckpoint\n",
    "\n",
    "%reload_ext tensorboard\n",
    "import tensorflow as tf\n",
    "from keras.preprocessing.text import Tokenizer\n",
    "from keras.preprocessing.sequence import pad_sequences\n",
    "from keras.models import Sequential,Input,Model\n",
    "from keras.layers import Dense,MaxPooling1D\n",
    "from keras.layers import Flatten,Dropout,concatenate\n",
    "from keras.layers import Embedding\n",
    "from sklearn.metrics import f1_score,roc_auc_score\n",
    "from keras.callbacks import TensorBoard"
   ]
  },
  {
   "cell_type": "code",
   "execution_count": 202,
   "metadata": {},
   "outputs": [
    {
     "name": "stderr",
     "output_type": "stream",
     "text": [
      "[nltk_data] Downloading package averaged_perceptron_tagger to\n",
      "[nltk_data]     C:\\Users\\prana\\AppData\\Roaming\\nltk_data...\n",
      "[nltk_data]   Package averaged_perceptron_tagger is already up-to-\n",
      "[nltk_data]       date!\n",
      "[nltk_data] Downloading package maxent_ne_chunker to\n",
      "[nltk_data]     C:\\Users\\prana\\AppData\\Roaming\\nltk_data...\n",
      "[nltk_data]   Package maxent_ne_chunker is already up-to-date!\n",
      "[nltk_data] Downloading package words to\n",
      "[nltk_data]     C:\\Users\\prana\\AppData\\Roaming\\nltk_data...\n",
      "[nltk_data]   Package words is already up-to-date!\n"
     ]
    },
    {
     "data": {
      "text/plain": [
       "True"
      ]
     },
     "execution_count": 202,
     "metadata": {},
     "output_type": "execute_result"
    }
   ],
   "source": [
    "import nltk\n",
    "from nltk import ne_chunk, pos_tag, word_tokenize\n",
    "nltk.download('averaged_perceptron_tagger')\n",
    "nltk.download('maxent_ne_chunker')\n",
    "nltk.download('words')"
   ]
  },
  {
   "cell_type": "code",
   "execution_count": 203,
   "metadata": {},
   "outputs": [
    {
     "name": "stderr",
     "output_type": "stream",
     "text": [
      "100%|██████████████████████████████████████████████████████████████████████████| 18828/18828 [00:04<00:00, 4287.85it/s]\n"
     ]
    }
   ],
   "source": [
    "class_label = []\n",
    "content = []\n",
    "document_name = []\n",
    "\n",
    "for file in tqdm(os.listdir('documents/x/')):\n",
    "    document_name.append(file)\n",
    "    data = []\n",
    "    label = file.split('_')[0]\n",
    "    class_label.append(label)# here we are extracting class labels \n",
    "    \n",
    "    with open('documents/x/'+file,'r',encoding='utf8',errors='replace') as file:\n",
    "        data.append(file.read())\n",
    "    content.append(data)"
   ]
  },
  {
   "cell_type": "code",
   "execution_count": 204,
   "metadata": {},
   "outputs": [
    {
     "data": {
      "text/plain": [
       "18828"
      ]
     },
     "execution_count": 204,
     "metadata": {},
     "output_type": "execute_result"
    }
   ],
   "source": [
    "len(document_name)"
   ]
  },
  {
   "cell_type": "code",
   "execution_count": 205,
   "metadata": {},
   "outputs": [],
   "source": [
    "data = pd.DataFrame(\n",
    "    {'document_name': document_name,\n",
    "     'doc_contents': content,\n",
    "     'class_label':class_label\n",
    "    })"
   ]
  },
  {
   "cell_type": "code",
   "execution_count": 206,
   "metadata": {},
   "outputs": [
    {
     "data": {
      "text/plain": [
       "18828"
      ]
     },
     "execution_count": 206,
     "metadata": {},
     "output_type": "execute_result"
    }
   ],
   "source": [
    "len(data)"
   ]
  },
  {
   "cell_type": "code",
   "execution_count": 207,
   "metadata": {},
   "outputs": [
    {
     "data": {
      "text/html": [
       "<div>\n",
       "<style scoped>\n",
       "    .dataframe tbody tr th:only-of-type {\n",
       "        vertical-align: middle;\n",
       "    }\n",
       "\n",
       "    .dataframe tbody tr th {\n",
       "        vertical-align: top;\n",
       "    }\n",
       "\n",
       "    .dataframe thead th {\n",
       "        text-align: right;\n",
       "    }\n",
       "</style>\n",
       "<table border=\"1\" class=\"dataframe\">\n",
       "  <thead>\n",
       "    <tr style=\"text-align: right;\">\n",
       "      <th></th>\n",
       "      <th>document_name</th>\n",
       "      <th>doc_contents</th>\n",
       "      <th>class_label</th>\n",
       "    </tr>\n",
       "  </thead>\n",
       "  <tbody>\n",
       "    <tr>\n",
       "      <th>0</th>\n",
       "      <td>alt.atheism_49960.txt</td>\n",
       "      <td>[From: mathew &lt;mathew@mantis.co.uk&gt;\\nSubject: ...</td>\n",
       "      <td>alt.atheism</td>\n",
       "    </tr>\n",
       "    <tr>\n",
       "      <th>1</th>\n",
       "      <td>alt.atheism_51060.txt</td>\n",
       "      <td>[From: mathew &lt;mathew@mantis.co.uk&gt;\\nSubject: ...</td>\n",
       "      <td>alt.atheism</td>\n",
       "    </tr>\n",
       "    <tr>\n",
       "      <th>2</th>\n",
       "      <td>alt.atheism_51119.txt</td>\n",
       "      <td>[From: I3150101@dbstu1.rz.tu-bs.de (Benedikt R...</td>\n",
       "      <td>alt.atheism</td>\n",
       "    </tr>\n",
       "    <tr>\n",
       "      <th>3</th>\n",
       "      <td>alt.atheism_51120.txt</td>\n",
       "      <td>[From: mathew &lt;mathew@mantis.co.uk&gt;\\nSubject: ...</td>\n",
       "      <td>alt.atheism</td>\n",
       "    </tr>\n",
       "    <tr>\n",
       "      <th>4</th>\n",
       "      <td>alt.atheism_51121.txt</td>\n",
       "      <td>[From: strom@Watson.Ibm.Com (Rob Strom)\\nSubje...</td>\n",
       "      <td>alt.atheism</td>\n",
       "    </tr>\n",
       "  </tbody>\n",
       "</table>\n",
       "</div>"
      ],
      "text/plain": [
       "           document_name                                       doc_contents  \\\n",
       "0  alt.atheism_49960.txt  [From: mathew <mathew@mantis.co.uk>\\nSubject: ...   \n",
       "1  alt.atheism_51060.txt  [From: mathew <mathew@mantis.co.uk>\\nSubject: ...   \n",
       "2  alt.atheism_51119.txt  [From: I3150101@dbstu1.rz.tu-bs.de (Benedikt R...   \n",
       "3  alt.atheism_51120.txt  [From: mathew <mathew@mantis.co.uk>\\nSubject: ...   \n",
       "4  alt.atheism_51121.txt  [From: strom@Watson.Ibm.Com (Rob Strom)\\nSubje...   \n",
       "\n",
       "   class_label  \n",
       "0  alt.atheism  \n",
       "1  alt.atheism  \n",
       "2  alt.atheism  \n",
       "3  alt.atheism  \n",
       "4  alt.atheism  "
      ]
     },
     "execution_count": 207,
     "metadata": {},
     "output_type": "execute_result"
    }
   ],
   "source": [
    "data.head()"
   ]
  },
  {
   "cell_type": "code",
   "execution_count": 208,
   "metadata": {},
   "outputs": [],
   "source": [
    "data.to_csv('preprocessed_data_file.csv', index = False)"
   ]
  },
  {
   "cell_type": "code",
   "execution_count": 209,
   "metadata": {},
   "outputs": [
    {
     "data": {
      "text/html": [
       "<div>\n",
       "<style scoped>\n",
       "    .dataframe tbody tr th:only-of-type {\n",
       "        vertical-align: middle;\n",
       "    }\n",
       "\n",
       "    .dataframe tbody tr th {\n",
       "        vertical-align: top;\n",
       "    }\n",
       "\n",
       "    .dataframe thead th {\n",
       "        text-align: right;\n",
       "    }\n",
       "</style>\n",
       "<table border=\"1\" class=\"dataframe\">\n",
       "  <thead>\n",
       "    <tr style=\"text-align: right;\">\n",
       "      <th></th>\n",
       "      <th>document_name</th>\n",
       "      <th>doc_contents</th>\n",
       "      <th>class_label</th>\n",
       "    </tr>\n",
       "  </thead>\n",
       "  <tbody>\n",
       "    <tr>\n",
       "      <th>0</th>\n",
       "      <td>alt.atheism_49960.txt</td>\n",
       "      <td>['From: mathew &lt;mathew@mantis.co.uk&gt;\\nSubject:...</td>\n",
       "      <td>alt.atheism</td>\n",
       "    </tr>\n",
       "    <tr>\n",
       "      <th>1</th>\n",
       "      <td>alt.atheism_51060.txt</td>\n",
       "      <td>['From: mathew &lt;mathew@mantis.co.uk&gt;\\nSubject:...</td>\n",
       "      <td>alt.atheism</td>\n",
       "    </tr>\n",
       "    <tr>\n",
       "      <th>2</th>\n",
       "      <td>alt.atheism_51119.txt</td>\n",
       "      <td>['From: I3150101@dbstu1.rz.tu-bs.de (Benedikt ...</td>\n",
       "      <td>alt.atheism</td>\n",
       "    </tr>\n",
       "    <tr>\n",
       "      <th>3</th>\n",
       "      <td>alt.atheism_51120.txt</td>\n",
       "      <td>['From: mathew &lt;mathew@mantis.co.uk&gt;\\nSubject:...</td>\n",
       "      <td>alt.atheism</td>\n",
       "    </tr>\n",
       "    <tr>\n",
       "      <th>4</th>\n",
       "      <td>alt.atheism_51121.txt</td>\n",
       "      <td>['From: strom@Watson.Ibm.Com (Rob Strom)\\nSubj...</td>\n",
       "      <td>alt.atheism</td>\n",
       "    </tr>\n",
       "  </tbody>\n",
       "</table>\n",
       "</div>"
      ],
      "text/plain": [
       "           document_name                                       doc_contents  \\\n",
       "0  alt.atheism_49960.txt  ['From: mathew <mathew@mantis.co.uk>\\nSubject:...   \n",
       "1  alt.atheism_51060.txt  ['From: mathew <mathew@mantis.co.uk>\\nSubject:...   \n",
       "2  alt.atheism_51119.txt  ['From: I3150101@dbstu1.rz.tu-bs.de (Benedikt ...   \n",
       "3  alt.atheism_51120.txt  ['From: mathew <mathew@mantis.co.uk>\\nSubject:...   \n",
       "4  alt.atheism_51121.txt  ['From: strom@Watson.Ibm.Com (Rob Strom)\\nSubj...   \n",
       "\n",
       "   class_label  \n",
       "0  alt.atheism  \n",
       "1  alt.atheism  \n",
       "2  alt.atheism  \n",
       "3  alt.atheism  \n",
       "4  alt.atheism  "
      ]
     },
     "execution_count": 209,
     "metadata": {},
     "output_type": "execute_result"
    }
   ],
   "source": [
    "preprocessed_data = pd.read_csv('preprocessed_data_file.csv')\n",
    "preprocessed_data.head(5)"
   ]
  },
  {
   "cell_type": "code",
   "execution_count": 210,
   "metadata": {},
   "outputs": [
    {
     "data": {
      "image/png": "[encoded data removed]",
      "text/plain": [
       "<Figure size 864x504 with 1 Axes>"
      ]
     },
     "metadata": {
      "needs_background": "light"
     },
     "output_type": "display_data"
    }
   ],
   "source": [
    "plt.figure(figsize=(12,7))\n",
    "sns.countplot(y = preprocessed_data['class_label'])\n",
    "plt.show()   # here we got fairly balanced data"
   ]
  },
  {
   "cell_type": "markdown",
   "metadata": {},
   "source": [
    "### Preprocessing:\n",
    "<pre>\n",
    "useful links: <a href='http://www.pyregex.com/'>http://www.pyregex.com/</a>\n",
    "\n",
    "<font color='blue'><b>1.</b></font> Find all emails in the document and then get the text after the \"@\". and then split those texts by '.' \n",
    "after that remove the words whose length is less than or equal to 2 and also remove'com' word and then combine those words by space. \n",
    "In one doc, if we have 2 or more mails, get all.\n",
    "<b>Eg:[test@dm1.d.com, test2@dm2.dm3.com]-->[dm1.d.com, dm3.dm4.com]-->[dm1,d,com,dm2,dm3,com]-->[dm1,dm2,dm3]-->\"dm1 dm2 dm3\" </b> \n",
    "append all those into one list/array. ( This will give length of 18828 sentences i.e one list for each of the document). \n",
    "Some sample output was shown below. \n",
    "\n",
    "> In the above sample document there are emails [jcopelan@nyx.cs.du.edu, 65882@mimsy.umd.edu, mangoe@cs.umd.edu]\n",
    "\n",
    "preprocessing:\n",
    "[jcopelan@nyx.cs.du.edu, 65882@mimsy.umd.edu, mangoe@cs.umd.edu] ==> [nyx cs du edu mimsy umd edu cs umd edu] ==> \n",
    "[nyx edu mimsy umd edu umd edu]\n",
    "\n",
    "<font color='blue'><b>2.</b></font> Replace all the emails by space in the original text. \n",
    "</pre>"
   ]
  },
  {
   "cell_type": "markdown",
   "metadata": {
    "colab_type": "text",
    "id": "rfWUeIN1Yv1N"
   },
   "source": [
    "### To get above mentioned data frame --> Try to Write Total Preprocessing steps in One Function Named Preprocess as below. "
   ]
  },
  {
   "cell_type": "code",
   "execution_count": 211,
   "metadata": {
    "colab": {},
    "colab_type": "code",
    "id": "uEGEHTNQYv1N"
   },
   "outputs": [],
   "source": [
    "def preprocess(input_content):\n",
    "    \"\"\"Do all the Preprocessing as shown above and\n",
    "    return a tuple contain preprocess_email,preprocess_subject,preprocess_text for that Text_data\"\"\"\n",
    "    \n",
    "    email = []  # store contents of the email in list\n",
    "    list_of_preproessed_emails = \"\"  # store contents of the email in string\n",
    "    \n",
    "    for em in re.findall(r'[\\w\\-\\.]+@[\\w\\.-]+\\b', input_content):  #extracting email \n",
    "        input_content = re.sub(em,'',input_content)\n",
    "        \n",
    "        email_temp =[]\n",
    "        email_temp = em.split('@')[1]      #taking text after @\n",
    "        email_temp = email_temp.split('.')      # a list containing words split by \".\"  \n",
    "\n",
    "        if 'com' in email_temp:\n",
    "            email_temp.remove('com')\n",
    " \n",
    "        for k in email_temp:            # removing words less than 3\n",
    "              if len(k)>2:\n",
    "                  email.append(k)\n",
    "    \n",
    "    for i in email:            #joining all the words in a string\n",
    "        list_of_preproessed_emails += i\n",
    "        list_of_preproessed_emails += ' '\n",
    "        \n",
    "    subject = re.search(r'Subject:(.*?)\\\\n', input_content).group(1) \n",
    "    subject =  re.sub(r'\\\\t','',subject)  #finding the main text of sbject \n",
    "    input_content = re.sub(r'Subject:','',input_content)  # removing the Subject keyword\n",
    "\n",
    "    input_content = re.sub(r'<(.*?)>','',input_content)    # removing tags like <,>\n",
    "    input_content = re.sub(r'<','',input_content)\n",
    "    input_content = re.sub(r'>','',input_content)\n",
    "    \n",
    "    input_content = re.sub(r'\\((.*?)\\)','',input_content)  # removing tags like (,)\n",
    "    input_content = re.sub(r'\\(','',input_content)\n",
    "    input_content = re.sub(r'\\)','',input_content)\n",
    "    \n",
    "    input_content = re.sub(r'Write to:(.*?)\\\\n','',input_content) # removing text after Write to: in a particular sentence \n",
    "    input_content = re.sub(r'Write to:','',input_content) # removing the Write to: keyword \n",
    "     \n",
    "    input_content = re.sub(r'From:(.*?)\\\\n','',input_content) # removing text after From: in a particular sentence \n",
    "    input_content = re.sub(r'From:','',input_content)  # removing the From: keyword \n",
    "    \n",
    "    input_content = input_content.replace('\\\\n','') # removing all the newlines('\\n')\n",
    "    input_content = input_content.replace('\\\\t','') # removing all the tabs('\\t')\n",
    "    input_content = input_content.replace('-','') # removing all the \"-\"\n",
    "    input_content = input_content.replace('\\\\','') # removing all the \"\\\"\n",
    "    input_content = input_content.replace('/',' ') # removing all the \"/\"\n",
    "    \n",
    "    input_content = re.sub(r'\\w+:\\s?','',input_content)  # removing all the words which ends with \":\"\n",
    "    \n",
    "    input_content = input_content.replace(\"won't\", 'will not')  # Decontractions, replaceing words to their fullforms.\n",
    "    input_content = input_content.replace(\"don't\", 'do not')\n",
    "    input_content = input_content.replace(\"'s\", ' is')\n",
    "    input_content = input_content.replace(\"'m\",' am')\n",
    "    input_content = input_content.replace(\"'re\", ' are')\n",
    "    input_content = input_content.replace(\"'ve\", ' have')\n",
    "    input_content = input_content.replace(\"n't\", ' not')\n",
    "    input_content = input_content.replace(\"'ll\", ' will') \n",
    "    input_content = input_content.replace(\"should n't\", 'should not')\n",
    "    input_content = input_content.replace(\"can't\", 'can not') \n",
    "    \n",
    "    \n",
    "    tree = nltk.ne_chunk(nltk.pos_tag(input_content.split()))  # TEXT chunking on the text\n",
    "    \n",
    "    GPE_arr=[]\n",
    "    for tree in tree.subtrees(filter=lambda z: z.label() == 'GPE' ):\n",
    "        for features in tree.leaves():\n",
    "            (exp, label) = features\n",
    "            if label == 'NNP':\n",
    "                GPE_arr.append(exp)\n",
    "                \n",
    "    PERSON_arr=[]            \n",
    "    for tree in tree.subtrees(filter=lambda z: z.label() == 'PERSON' ):\n",
    "        for features in tree.leaves():\n",
    "            (exp, label) = features\n",
    "            if label =='NNP':\n",
    "                PERSON_arr.append(exp)\n",
    "                \n",
    "                \n",
    "    for person in PERSON_arr:\n",
    "        input_content = input_content.replace(person,\"\")\n",
    "        \n",
    "    temp = '_'.join(GPE_arr)\n",
    "    input_content = input_content.replace(temp,\"\")\n",
    "    \n",
    "    \n",
    "    input_content = re.sub(r'[0-9]','',input_content)  # removing all the digits\n",
    "    \n",
    "    input_content = re.sub(re.compile(r'_+[a-zA-Z+]+_'),'',input_content) # removing all the words like _word_\n",
    "    input_content = re.sub(re.compile(r'_+[a-zA-Z+]'),'',input_content) # removing all the words like _word\n",
    "    input_content = re.sub(re.compile(r'[a-zA-Z+]+_'),'',input_content) # removing all the words like word_\n",
    "    \n",
    "    matches = re.findall(r'[a-zA-Z]+_+[a-zA-Z]+',input_content)   # words with underscore\n",
    "    \n",
    "    for match in matches:       # removing the words which are length less than or equal to 2\n",
    "        arr = match.split('_')\n",
    "        for i in arr:\n",
    "            if len(i)<=2:\n",
    "                arr.remove(i)\n",
    "                arr = ' '.join(arr)\n",
    "                input_content = input_content.replace(str(match),str(arr))\n",
    "     \n",
    "    input_content = input_content.lower()  # converting to lower case\n",
    "    input_content=input_content.split(' ')\n",
    "    \n",
    "    for word in input_content:     # removing the words >= 15 or <= 2\n",
    "        if (len(word)<3 or len(word)>15):\n",
    "            input_content.remove(word)\n",
    "    input_content = \" \".join(input_content)\n",
    "    input_content  = re.sub(re.compile(r'[^a-zA-Z_]'),' ',input_content)\n",
    "   \n",
    "    return (list_of_preproessed_emails,subject,input_content)"
   ]
  },
  {
   "cell_type": "code",
   "execution_count": 212,
   "metadata": {},
   "outputs": [
    {
     "name": "stdout",
     "output_type": "stream",
     "text": [
      "Email:- mantis netcom mantis  \n",
      "Subject:-  Alt.Atheism FAQ: Atheist Resources \n",
      "Text:- alt atheism atheist atheism december atheist resources addresses atheist organizations usafreedom from religion fish bumper stickers and assorted other atheist paraphernalia areavailable from the freedom from religion foundation the us  evolution designs sell the  darwin fish   fish symbol  like the oneschristians stick their cars  but with feet and the word  darwin  writteninside  the deluxe moulded plastic fish    postpaid the us   people the san francisco bay area can get darwin fish from lynn gold try mailing for net people who lynn directly  theprice    per fish american atheist pressaap publish various atheist books critiques the bible  lists ofbiblical contradictions  and on  one such book  the bible handbook  w p  ball and g w  foote  american atheist press  pp  isbn nd edition  bible atrocities  immoralities    contains ball   the itself   aap  based the king james version the bible  cameron road  austin  prometheus bookssell books including haught  holy horrors   an alternate address prometheus books  glenn drive  buffalo   africanamericans for humanisman organization promoting black secular humanism and uncovering the history ofblack freethought  they publish quarterly newsletter  aah examiner  buffalo  united press association national secular society islington high street holloway roadlondon ew london nl british humanist association south place ethical society lamb conduit passage conway halllondon wcr red lion square                            london wcr rlfax                            the national secular society publish  the freethinker   monthly magazinefounded                                   germanyibka bund der und berlin germany ibka publish miz  mizvertrieb  postfach berlin germany for atheist books  write ibdk  internationaler b ucherdienst der   d hannover   germany                                 books  fictionthomas disch the santa claus story   the ultimate proof that santa exists   all characters and events are fictitious   any similarity living dead gods  uh  well   walter miller  jr a canticle for leibowitz one gem this post atomic doomsday novel the monks who spent their livescopying blueprints from  saint leibowitz   filling the sheets paper withink and leaving white lines and letters edgar atomic doomsday novel set clerical states   the church  for example forbids that anyone  produce  describe use any substance philip dickphilip dick dick wrote many philosophical and short stories and novels   his stories are bizarre times  but very approachable he wrote mainly sf  but wrote about people  truth and religion rather thantechnology   although often believed that had met some sort god  heremained sceptical   amongst his novels  the following are some  galactic pothealer a fallible alien deity summons group earth craftsmen and women aremote planet raise giant cathedral from beneath the oceans   when thedeity begins demand faith from the earthers  pothealer joe fernwright isunable comply   polished  ironic and amusing novel  a maze death noteworthy for its description technologybased schizophrenic hero searches for the hidden mysteries gnosticchristianity after reality fired into his brain pink laser beam ofunknown but possibly divine origin   accompanied his dogmatic anddismissively atheist friend and assorted other odd characters  the divine invasion god invades earth making young woman pregnant she returns fromanother star system   unfortunately she terminally ill  and must beassisted dead man whose brain wired hour easy listening music margaret atwood the handmaid tale a story based the premise that the congress mysteriouslyassassinated  and fundamentalists quickly take charge the nation set it right  again   the book the diary woman life she tries liveunder the new christian theocracy   women right own property revoked and their bank accounts are closed  sinful luxuries are outlawed  and theradio only used for readings from the bible   crimes are doctors who performed legal abortions the  old world  arehunted down and hanged   atwood writing style difficult get used toat first  but the tale grows more and more chilling it goes on various authors the bible this somewhat dull and rambling work has often been criticized   however  itis probably worth reading  only that you will know what all the fuss isabout   it exists many different versions  make sure you get the onetrue version                              books  nonfictionpeter rosa vicars christ   bantam press  although rosa seems christian even catholic this veryenlighting history papal immoralities  adulteries  fallacies etc michael martin a philosophical justification   temple university press  philadelphia  usa a detailed and scholarly justification atheism   contains outstandingappendix defining terminology and usage this  tendentiousarea   argues both for  negative atheism  and also for  positive atheism   includes great refutations the mostchallenging arguments for god  particular attention paid refutingcontempory theists such platinga and swinburne  pages  isbn   the case against christianity   temple university pressa comprehensive critique christianity  which he considersthe best contemporary defences christianity and demonstrates that they are unsupportable and incoherent  pages  isbn james turner without god  without creed   the johns hopkins university press  baltimore  md  usasubtitled  the origins unbelief america    examines the way whichunbelief   became mainstream  focusses the period   and while considering franceand britain the emphasis american  and particularly new   neither religious history secularization atheism without god  without creed is  rather  the intellectual history the fateof a single idea  the belief that god exists    pages  isbn  x  george seldes  the great thoughts   ballantine books  new york  usaa  dictionary quotations  a different kind  concentrating statementsand writings which  explicitly implicitly  present the person philosophyand worldview   includes obscure  opinions from manypeople   for some popular observations  traces the way which variouspeople expressed and twisted the idea over the centuries   quite a number ofthe quotations are derived from cardiff  what great men think religion and noyes   views religion   pages  isbn  x richard swinburne the existence god clarendon paperbacks  oxfordthis book the second volume a trilogy that began with  the coherence oftheism   and was concluded with  faith and reason     thiswork  swinburne attempts construct a series inductive arguments for theexistence god   his arguments  which are somewhat tendentious and relyupon the imputation late century western christian values andaesthetics a god which supposedly simple can be conceived  weredecisively rejected mackie  the miracle theism    the revisededition  the existence god   swinburne includes appendix in which hemakes a somewhat incoherent attempt rebut mackie j  mackie the miracle theism   oxfordthis  volume contains a comprehensive review the for and against the existence god   it ranges from the positions descartes  anselm  berkeley  hume al  throughthe moral arguments newman  kant and sidgwick  the recent restatementsof the classical theses plantinga and swinburne   it also addresses thosepositions which push the concept god beyond the realm the rational such those kierkegaard  kung and philips  well  replacements forgod  such lelie axiarchism   the book a delight read  lessformalistic and better written than martin works  and refreshingly directwhen compared with the handwaving swinburne james haught holy illustrated history religious murder and madness   prometheus bookslooks religious persecution from ancient times the present day  andnot only christians library congress catalog card number    norm allen  jr  african american anthology see the listing for african americans for humanism above gordon stein an anthology atheism and rationalism   prometheus booksan anthology covering a wide range subjects  including  the devil  eviland morality  and  the history freethought    comprehensive d  cohen the mind the biblebeliever   prometheus booksa study why people become christian and what effect ithas on them                                 net resourcesthere a small mailbased archive server mantis co uk which carriesarchives old articles and assorted other files   formore information  send mail to  saying   help   send atheism indexand it will mail back a reply mathew   \n"
     ]
    }
   ],
   "source": [
    "email_example,subject_example,Text_example = preprocess(np.array(preprocessed_data[preprocessed_data['document_name']==\"alt.atheism_49960.txt\"]['doc_contents'])[0])\n",
    "print('Email:-',email_example,'\\nSubject:-',subject_example,'\\nText:-',Text_example)"
   ]
  },
  {
   "cell_type": "markdown",
   "metadata": {
    "colab_type": "text",
    "id": "2x3og_iaYv1S"
   },
   "source": [
    "### After writing Preprocess function, call the function for each of the document(18828 docs) and then create a dataframe as mentioned above."
   ]
  },
  {
   "cell_type": "code",
   "execution_count": 213,
   "metadata": {},
   "outputs": [
    {
     "name": "stderr",
     "output_type": "stream",
     "text": [
      "100%|████████████████████████████████████████████████████████████████████████████| 18828/18828 [13:03<00:00, 24.03it/s]\n"
     ]
    },
    {
     "data": {
      "text/html": [
       "<div>\n",
       "<style scoped>\n",
       "    .dataframe tbody tr th:only-of-type {\n",
       "        vertical-align: middle;\n",
       "    }\n",
       "\n",
       "    .dataframe tbody tr th {\n",
       "        vertical-align: top;\n",
       "    }\n",
       "\n",
       "    .dataframe thead th {\n",
       "        text-align: right;\n",
       "    }\n",
       "</style>\n",
       "<table border=\"1\" class=\"dataframe\">\n",
       "  <thead>\n",
       "    <tr style=\"text-align: right;\">\n",
       "      <th></th>\n",
       "      <th>document_name</th>\n",
       "      <th>doc_contents</th>\n",
       "      <th>class_label</th>\n",
       "      <th>preprocessed_subject</th>\n",
       "      <th>preprocessed_email</th>\n",
       "      <th>preprocessed_text</th>\n",
       "    </tr>\n",
       "  </thead>\n",
       "  <tbody>\n",
       "    <tr>\n",
       "      <th>0</th>\n",
       "      <td>alt.atheism_49960.txt</td>\n",
       "      <td>['From: mathew &lt;mathew@mantis.co.uk&gt;\\nSubject:...</td>\n",
       "      <td>alt.atheism</td>\n",
       "      <td>Alt.Atheism FAQ: Atheist Resources</td>\n",
       "      <td>mantis netcom mantis</td>\n",
       "      <td>alt atheism atheist atheism december atheist r...</td>\n",
       "    </tr>\n",
       "    <tr>\n",
       "      <th>1</th>\n",
       "      <td>alt.atheism_51060.txt</td>\n",
       "      <td>['From: mathew &lt;mathew@mantis.co.uk&gt;\\nSubject:...</td>\n",
       "      <td>alt.atheism</td>\n",
       "      <td>Alt.Atheism FAQ: Introduction to Atheism</td>\n",
       "      <td>mantis mantis mantis</td>\n",
       "      <td>alt atheism introduction atheism april  begin ...</td>\n",
       "    </tr>\n",
       "    <tr>\n",
       "      <th>2</th>\n",
       "      <td>alt.atheism_51119.txt</td>\n",
       "      <td>['From: I3150101@dbstu1.rz.tu-bs.de (Benedikt ...</td>\n",
       "      <td>alt.atheism</td>\n",
       "      <td>Re: Gospel Dating</td>\n",
       "      <td>dbstu1 tu-bs mimsy umd edu umd edu</td>\n",
       "      <td>gospel datingin article well  john has quite d...</td>\n",
       "    </tr>\n",
       "    <tr>\n",
       "      <th>3</th>\n",
       "      <td>alt.atheism_51120.txt</td>\n",
       "      <td>['From: mathew &lt;mathew@mantis.co.uk&gt;\\nSubject:...</td>\n",
       "      <td>alt.atheism</td>\n",
       "      <td>Re: university violating separation of church...</td>\n",
       "      <td>mantis kepler unh edu</td>\n",
       "      <td>university violating separation church state  ...</td>\n",
       "    </tr>\n",
       "    <tr>\n",
       "      <th>4</th>\n",
       "      <td>alt.atheism_51121.txt</td>\n",
       "      <td>['From: strom@Watson.Ibm.Com (Rob Strom)\\nSubj...</td>\n",
       "      <td>alt.atheism</td>\n",
       "      <td>Re: [soc.motss, et al.] \"Princeton axes match...</td>\n",
       "      <td>Watson Ibm Com harder ccr-p ida org harder ccr...</td>\n",
       "      <td>soc motss  al    princeton axes matching fund...</td>\n",
       "    </tr>\n",
       "    <tr>\n",
       "      <th>...</th>\n",
       "      <td>...</td>\n",
       "      <td>...</td>\n",
       "      <td>...</td>\n",
       "      <td>...</td>\n",
       "      <td>...</td>\n",
       "      <td>...</td>\n",
       "    </tr>\n",
       "    <tr>\n",
       "      <th>18823</th>\n",
       "      <td>talk.religion.misc_84564.txt</td>\n",
       "      <td>['From: sbuckley@fraser.sfu.ca (Stephen Buckle...</td>\n",
       "      <td>talk.religion.misc</td>\n",
       "      <td>Re: Religion and marriage</td>\n",
       "      <td>fraser sfu magnus acs ohio-state edu</td>\n",
       "      <td>religion and marriage was not sure this was th...</td>\n",
       "    </tr>\n",
       "    <tr>\n",
       "      <th>18824</th>\n",
       "      <td>talk.religion.misc_84565.txt</td>\n",
       "      <td>['From: bakerj@gtephx.UUCP (Jon Baker)\\nSubjec...</td>\n",
       "      <td>talk.religion.misc</td>\n",
       "      <td>Re: A Message for you Mr. President: How do y...</td>\n",
       "      <td>gtephx UUCP ifi uio ifi uio ncratl AtlantaGA N...</td>\n",
       "      <td>message for you you know what happened in arti...</td>\n",
       "    </tr>\n",
       "    <tr>\n",
       "      <th>18825</th>\n",
       "      <td>talk.religion.misc_84568.txt</td>\n",
       "      <td>[\"From: pharvey@quack.kfu.com (Paul Harvey)\\nS...</td>\n",
       "      <td>talk.religion.misc</td>\n",
       "      <td>Re: Why did they behave as they did (Waco--re...</td>\n",
       "      <td>quack kfu emx utexas edu emx utexas edu</td>\n",
       "      <td>why did they behave they did article  if you w...</td>\n",
       "    </tr>\n",
       "    <tr>\n",
       "      <th>18826</th>\n",
       "      <td>talk.religion.misc_84569.txt</td>\n",
       "      <td>['From: &lt;KEVXU@CUNYVM.BITNET&gt;\\nSubject: Re: In...</td>\n",
       "      <td>talk.religion.misc</td>\n",
       "      <td>Re: Info about New Age!</td>\n",
       "      <td>CUNYVM BITNET digi lonestar org digi lonestar ...</td>\n",
       "      <td>info about new age in article the danger antic...</td>\n",
       "    </tr>\n",
       "    <tr>\n",
       "      <th>18827</th>\n",
       "      <td>talk.religion.misc_84570.txt</td>\n",
       "      <td>[\"From: pharvey@quack.kfu.com (Paul Harvey)\\nS...</td>\n",
       "      <td>talk.religion.misc</td>\n",
       "      <td>Re: I'll see your demand and raise you... (wa...</td>\n",
       "      <td>quack kfu darkside osrhe uoknor edu okcforum o...</td>\n",
       "      <td>will see your demand and raise you    article ...</td>\n",
       "    </tr>\n",
       "  </tbody>\n",
       "</table>\n",
       "<p>18828 rows × 6 columns</p>\n",
       "</div>"
      ],
      "text/plain": [
       "                      document_name  \\\n",
       "0             alt.atheism_49960.txt   \n",
       "1             alt.atheism_51060.txt   \n",
       "2             alt.atheism_51119.txt   \n",
       "3             alt.atheism_51120.txt   \n",
       "4             alt.atheism_51121.txt   \n",
       "...                             ...   \n",
       "18823  talk.religion.misc_84564.txt   \n",
       "18824  talk.religion.misc_84565.txt   \n",
       "18825  talk.religion.misc_84568.txt   \n",
       "18826  talk.religion.misc_84569.txt   \n",
       "18827  talk.religion.misc_84570.txt   \n",
       "\n",
       "                                            doc_contents         class_label  \\\n",
       "0      ['From: mathew <mathew@mantis.co.uk>\\nSubject:...         alt.atheism   \n",
       "1      ['From: mathew <mathew@mantis.co.uk>\\nSubject:...         alt.atheism   \n",
       "2      ['From: I3150101@dbstu1.rz.tu-bs.de (Benedikt ...         alt.atheism   \n",
       "3      ['From: mathew <mathew@mantis.co.uk>\\nSubject:...         alt.atheism   \n",
       "4      ['From: strom@Watson.Ibm.Com (Rob Strom)\\nSubj...         alt.atheism   \n",
       "...                                                  ...                 ...   \n",
       "18823  ['From: sbuckley@fraser.sfu.ca (Stephen Buckle...  talk.religion.misc   \n",
       "18824  ['From: bakerj@gtephx.UUCP (Jon Baker)\\nSubjec...  talk.religion.misc   \n",
       "18825  [\"From: pharvey@quack.kfu.com (Paul Harvey)\\nS...  talk.religion.misc   \n",
       "18826  ['From: <KEVXU@CUNYVM.BITNET>\\nSubject: Re: In...  talk.religion.misc   \n",
       "18827  [\"From: pharvey@quack.kfu.com (Paul Harvey)\\nS...  talk.religion.misc   \n",
       "\n",
       "                                    preprocessed_subject  \\\n",
       "0                     Alt.Atheism FAQ: Atheist Resources   \n",
       "1               Alt.Atheism FAQ: Introduction to Atheism   \n",
       "2                                      Re: Gospel Dating   \n",
       "3       Re: university violating separation of church...   \n",
       "4       Re: [soc.motss, et al.] \"Princeton axes match...   \n",
       "...                                                  ...   \n",
       "18823                          Re: Religion and marriage   \n",
       "18824   Re: A Message for you Mr. President: How do y...   \n",
       "18825   Re: Why did they behave as they did (Waco--re...   \n",
       "18826                            Re: Info about New Age!   \n",
       "18827   Re: I'll see your demand and raise you... (wa...   \n",
       "\n",
       "                                      preprocessed_email  \\\n",
       "0                                  mantis netcom mantis    \n",
       "1                                  mantis mantis mantis    \n",
       "2                    dbstu1 tu-bs mimsy umd edu umd edu    \n",
       "3                                 mantis kepler unh edu    \n",
       "4      Watson Ibm Com harder ccr-p ida org harder ccr...   \n",
       "...                                                  ...   \n",
       "18823              fraser sfu magnus acs ohio-state edu    \n",
       "18824  gtephx UUCP ifi uio ifi uio ncratl AtlantaGA N...   \n",
       "18825           quack kfu emx utexas edu emx utexas edu    \n",
       "18826  CUNYVM BITNET digi lonestar org digi lonestar ...   \n",
       "18827  quack kfu darkside osrhe uoknor edu okcforum o...   \n",
       "\n",
       "                                       preprocessed_text  \n",
       "0      alt atheism atheist atheism december atheist r...  \n",
       "1      alt atheism introduction atheism april  begin ...  \n",
       "2      gospel datingin article well  john has quite d...  \n",
       "3      university violating separation church state  ...  \n",
       "4       soc motss  al    princeton axes matching fund...  \n",
       "...                                                  ...  \n",
       "18823  religion and marriage was not sure this was th...  \n",
       "18824  message for you you know what happened in arti...  \n",
       "18825  why did they behave they did article  if you w...  \n",
       "18826  info about new age in article the danger antic...  \n",
       "18827  will see your demand and raise you    article ...  \n",
       "\n",
       "[18828 rows x 6 columns]"
      ]
     },
     "execution_count": 213,
     "metadata": {},
     "output_type": "execute_result"
    }
   ],
   "source": [
    "preprocessed_text,preprocessed_subject,preprocessed_emails = [],[],[]\n",
    "\n",
    "for i in tqdm(np.array(preprocessed_data['doc_contents'])):\n",
    "    email,subject,text = preprocess(i)\n",
    "    preprocessed_emails.append(email)\n",
    "    preprocessed_subject.append(subject)\n",
    "    preprocessed_text.append(text)\n",
    "\n",
    "preprocessed_data['preprocessed_subject'] = preprocessed_subject\n",
    "preprocessed_data['preprocessed_email'] = preprocessed_emails\n",
    "preprocessed_data['preprocessed_text'] = preprocessed_text\n",
    "\n",
    "preprocessed_data"
   ]
  },
  {
   "cell_type": "markdown",
   "metadata": {
    "colab_type": "text",
    "id": "n3ucJLtWYv1V"
   },
   "source": [
    "### Training The models to Classify: \n",
    "\n",
    "<pre>\n",
    "1. Combine \"preprocessed_text\", \"preprocessed_subject\", \"preprocessed_emails\" into one column. use that column to model. \n",
    "\n",
    "2. Now Split the data into Train and test. use 25% for test also do a stratify split. \n",
    "\n",
    "3. Analyze your text data and pad the sequnce if required. \n",
    "Sequnce length is not restricted, you can use anything of your choice. \n",
    "you need to give the reasoning\n",
    "\n",
    "4. Do Tokenizer i.e convert text into numbers. please be careful while doing it. \n",
    "if you are using tf.keras \"Tokenizer\" API, it removes the <b>\"_\"</b>, but we need that.\n",
    "\n",
    "5. code the model's ( Model-1, Model-2 ) as discussed below \n",
    "and try to optimize that models.  \n",
    "\n",
    "6. For every model use predefined Glove vectors. \n",
    "<b>Don't train any word vectors while Training the model.</b>\n",
    "\n",
    "7. Use \"categorical_crossentropy\" as Loss. \n",
    "\n",
    "8. Use <b>Accuracy and Micro Avgeraged F1 score</b> as your as Key metrics to evaluate your model. \n",
    "\n",
    "9.  Use Tensorboard to plot the loss and Metrics based on the epoches.\n",
    "\n",
    "10. Please save your best model weights in to <b>'best_model_L.h5' ( L = 1 or 2 )</b>. \n",
    "\n",
    "11. You are free to choose any Activation function, learning rate, optimizer.\n",
    "But have to use the same architecture which we are giving below.\n",
    "\n",
    "12. You can add some layer to our architecture but you <b>deletion</b> of layer is not acceptable.\n",
    "\n",
    "13. Try to use <b>Early Stopping</b> technique or any of the callback techniques that you did in the previous assignments.\n",
    "\n",
    "14. For Every model save your model to image ( Plot the model) with shapes \n",
    "and inlcude those images in the notebook markdown cell, \n",
    "upload those imgages to Classroom. You can use \"plot_model\" \n",
    "please refer <a href='https://www.tensorflow.org/api_docs/python/tf/keras/utils/plot_model'>this</a> if you don't know how to plot the model with shapes. \n",
    "\n",
    "</pre>"
   ]
  },
  {
   "cell_type": "markdown",
   "metadata": {},
   "source": [
    "1. Combine \"preprocessed_text\", \"preprocessed_subject\", \"preprocessed_emails\" into one column. use that column to model. "
   ]
  },
  {
   "cell_type": "code",
   "execution_count": 214,
   "metadata": {},
   "outputs": [],
   "source": [
    "preprocessed_data['preprocessed_data'] = preprocessed_data['preprocessed_subject']+' ' + preprocessed_data['preprocessed_email']+ ' ' +preprocessed_data['preprocessed_text']\n",
    "preprocessed_data.to_csv('preprocessed_data_file2.csv', index = False)"
   ]
  },
  {
   "cell_type": "code",
   "execution_count": 215,
   "metadata": {},
   "outputs": [
    {
     "data": {
      "text/html": [
       "<div>\n",
       "<style scoped>\n",
       "    .dataframe tbody tr th:only-of-type {\n",
       "        vertical-align: middle;\n",
       "    }\n",
       "\n",
       "    .dataframe tbody tr th {\n",
       "        vertical-align: top;\n",
       "    }\n",
       "\n",
       "    .dataframe thead th {\n",
       "        text-align: right;\n",
       "    }\n",
       "</style>\n",
       "<table border=\"1\" class=\"dataframe\">\n",
       "  <thead>\n",
       "    <tr style=\"text-align: right;\">\n",
       "      <th></th>\n",
       "      <th>document_name</th>\n",
       "      <th>doc_contents</th>\n",
       "      <th>class_label</th>\n",
       "      <th>preprocessed_subject</th>\n",
       "      <th>preprocessed_email</th>\n",
       "      <th>preprocessed_text</th>\n",
       "      <th>preprocessed_data</th>\n",
       "    </tr>\n",
       "  </thead>\n",
       "  <tbody>\n",
       "    <tr>\n",
       "      <th>0</th>\n",
       "      <td>alt.atheism_49960.txt</td>\n",
       "      <td>['From: mathew &lt;mathew@mantis.co.uk&gt;\\nSubject:...</td>\n",
       "      <td>alt.atheism</td>\n",
       "      <td>Alt.Atheism FAQ: Atheist Resources</td>\n",
       "      <td>mantis netcom mantis</td>\n",
       "      <td>alt atheism atheist atheism december atheist r...</td>\n",
       "      <td>Alt.Atheism FAQ: Atheist Resources mantis net...</td>\n",
       "    </tr>\n",
       "    <tr>\n",
       "      <th>1</th>\n",
       "      <td>alt.atheism_51060.txt</td>\n",
       "      <td>['From: mathew &lt;mathew@mantis.co.uk&gt;\\nSubject:...</td>\n",
       "      <td>alt.atheism</td>\n",
       "      <td>Alt.Atheism FAQ: Introduction to Atheism</td>\n",
       "      <td>mantis mantis mantis</td>\n",
       "      <td>alt atheism introduction atheism april  begin ...</td>\n",
       "      <td>Alt.Atheism FAQ: Introduction to Atheism mant...</td>\n",
       "    </tr>\n",
       "    <tr>\n",
       "      <th>2</th>\n",
       "      <td>alt.atheism_51119.txt</td>\n",
       "      <td>['From: I3150101@dbstu1.rz.tu-bs.de (Benedikt ...</td>\n",
       "      <td>alt.atheism</td>\n",
       "      <td>Re: Gospel Dating</td>\n",
       "      <td>dbstu1 tu-bs mimsy umd edu umd edu</td>\n",
       "      <td>gospel datingin article well  john has quite d...</td>\n",
       "      <td>Re: Gospel Dating dbstu1 tu-bs mimsy umd edu ...</td>\n",
       "    </tr>\n",
       "    <tr>\n",
       "      <th>3</th>\n",
       "      <td>alt.atheism_51120.txt</td>\n",
       "      <td>['From: mathew &lt;mathew@mantis.co.uk&gt;\\nSubject:...</td>\n",
       "      <td>alt.atheism</td>\n",
       "      <td>Re: university violating separation of church...</td>\n",
       "      <td>mantis kepler unh edu</td>\n",
       "      <td>university violating separation church state  ...</td>\n",
       "      <td>Re: university violating separation of church...</td>\n",
       "    </tr>\n",
       "    <tr>\n",
       "      <th>4</th>\n",
       "      <td>alt.atheism_51121.txt</td>\n",
       "      <td>['From: strom@Watson.Ibm.Com (Rob Strom)\\nSubj...</td>\n",
       "      <td>alt.atheism</td>\n",
       "      <td>Re: [soc.motss, et al.] \"Princeton axes match...</td>\n",
       "      <td>Watson Ibm Com harder ccr-p ida org harder ccr...</td>\n",
       "      <td>soc motss  al    princeton axes matching fund...</td>\n",
       "      <td>Re: [soc.motss, et al.] \"Princeton axes match...</td>\n",
       "    </tr>\n",
       "  </tbody>\n",
       "</table>\n",
       "</div>"
      ],
      "text/plain": [
       "           document_name                                       doc_contents  \\\n",
       "0  alt.atheism_49960.txt  ['From: mathew <mathew@mantis.co.uk>\\nSubject:...   \n",
       "1  alt.atheism_51060.txt  ['From: mathew <mathew@mantis.co.uk>\\nSubject:...   \n",
       "2  alt.atheism_51119.txt  ['From: I3150101@dbstu1.rz.tu-bs.de (Benedikt ...   \n",
       "3  alt.atheism_51120.txt  ['From: mathew <mathew@mantis.co.uk>\\nSubject:...   \n",
       "4  alt.atheism_51121.txt  ['From: strom@Watson.Ibm.Com (Rob Strom)\\nSubj...   \n",
       "\n",
       "   class_label                               preprocessed_subject  \\\n",
       "0  alt.atheism                 Alt.Atheism FAQ: Atheist Resources   \n",
       "1  alt.atheism           Alt.Atheism FAQ: Introduction to Atheism   \n",
       "2  alt.atheism                                  Re: Gospel Dating   \n",
       "3  alt.atheism   Re: university violating separation of church...   \n",
       "4  alt.atheism   Re: [soc.motss, et al.] \"Princeton axes match...   \n",
       "\n",
       "                                  preprocessed_email  \\\n",
       "0                              mantis netcom mantis    \n",
       "1                              mantis mantis mantis    \n",
       "2                dbstu1 tu-bs mimsy umd edu umd edu    \n",
       "3                             mantis kepler unh edu    \n",
       "4  Watson Ibm Com harder ccr-p ida org harder ccr...   \n",
       "\n",
       "                                   preprocessed_text  \\\n",
       "0  alt atheism atheist atheism december atheist r...   \n",
       "1  alt atheism introduction atheism april  begin ...   \n",
       "2  gospel datingin article well  john has quite d...   \n",
       "3  university violating separation church state  ...   \n",
       "4   soc motss  al    princeton axes matching fund...   \n",
       "\n",
       "                                   preprocessed_data  \n",
       "0   Alt.Atheism FAQ: Atheist Resources mantis net...  \n",
       "1   Alt.Atheism FAQ: Introduction to Atheism mant...  \n",
       "2   Re: Gospel Dating dbstu1 tu-bs mimsy umd edu ...  \n",
       "3   Re: university violating separation of church...  \n",
       "4   Re: [soc.motss, et al.] \"Princeton axes match...  "
      ]
     },
     "execution_count": 215,
     "metadata": {},
     "output_type": "execute_result"
    }
   ],
   "source": [
    "preprocessed_data_file2 = pd.read_csv('preprocessed_data_file2.csv')\n",
    "preprocessed_data_file2.head(5)"
   ]
  },
  {
   "cell_type": "markdown",
   "metadata": {},
   "source": [
    "2. Now Split the data into Train and test. use 25% for test also do a stratify split. "
   ]
  },
  {
   "cell_type": "code",
   "execution_count": 216,
   "metadata": {},
   "outputs": [],
   "source": [
    "from sklearn.model_selection import train_test_split\n",
    "\n",
    "y = preprocessed_data_file2['class_label'].values\n",
    "x = preprocessed_data_file2.drop(['class_label'], axis=1)"
   ]
  },
  {
   "cell_type": "code",
   "execution_count": 217,
   "metadata": {},
   "outputs": [],
   "source": [
    "X_train,X_test,y_train,y_test= train_test_split(x,y,random_state=42,stratify=y,test_size=0.25)"
   ]
  },
  {
   "cell_type": "code",
   "execution_count": 218,
   "metadata": {},
   "outputs": [
    {
     "data": {
      "text/html": [
       "<div>\n",
       "<style scoped>\n",
       "    .dataframe tbody tr th:only-of-type {\n",
       "        vertical-align: middle;\n",
       "    }\n",
       "\n",
       "    .dataframe tbody tr th {\n",
       "        vertical-align: top;\n",
       "    }\n",
       "\n",
       "    .dataframe thead th {\n",
       "        text-align: right;\n",
       "    }\n",
       "</style>\n",
       "<table border=\"1\" class=\"dataframe\">\n",
       "  <thead>\n",
       "    <tr style=\"text-align: right;\">\n",
       "      <th></th>\n",
       "      <th>document_name</th>\n",
       "      <th>doc_contents</th>\n",
       "      <th>preprocessed_subject</th>\n",
       "      <th>preprocessed_email</th>\n",
       "      <th>preprocessed_text</th>\n",
       "      <th>preprocessed_data</th>\n",
       "    </tr>\n",
       "  </thead>\n",
       "  <tbody>\n",
       "    <tr>\n",
       "      <th>16428</th>\n",
       "      <td>talk.politics.guns_55233.txt</td>\n",
       "      <td>['From: wwarf@silver.ucs.indiana.edu (Wayne J....</td>\n",
       "      <td>Re: Your Evil Tax Dollars at Work, was RE: AT...</td>\n",
       "      <td>silver ucs indiana edu psuvm psu edu psuvm psu...</td>\n",
       "      <td>your evil tax dollars work  was atf burns ranc...</td>\n",
       "      <td>Re: Your Evil Tax Dollars at Work, was RE: AT...</td>\n",
       "    </tr>\n",
       "    <tr>\n",
       "      <th>10459</th>\n",
       "      <td>rec.sport.hockey_54284.txt</td>\n",
       "      <td>['From: drozinst@db.erau.edu (Drozinski Tim)\\n...</td>\n",
       "      <td>Re: Ulf and all...</td>\n",
       "      <td>erau edu philabs philips alpha erau edu erau e...</td>\n",
       "      <td>ulf and all    in article an ulf fan  and what...</td>\n",
       "      <td>Re: Ulf and all... erau edu philabs philips a...</td>\n",
       "    </tr>\n",
       "  </tbody>\n",
       "</table>\n",
       "</div>"
      ],
      "text/plain": [
       "                      document_name  \\\n",
       "16428  talk.politics.guns_55233.txt   \n",
       "10459    rec.sport.hockey_54284.txt   \n",
       "\n",
       "                                            doc_contents  \\\n",
       "16428  ['From: wwarf@silver.ucs.indiana.edu (Wayne J....   \n",
       "10459  ['From: drozinst@db.erau.edu (Drozinski Tim)\\n...   \n",
       "\n",
       "                                    preprocessed_subject  \\\n",
       "16428   Re: Your Evil Tax Dollars at Work, was RE: AT...   \n",
       "10459                                 Re: Ulf and all...   \n",
       "\n",
       "                                      preprocessed_email  \\\n",
       "16428  silver ucs indiana edu psuvm psu edu psuvm psu...   \n",
       "10459  erau edu philabs philips alpha erau edu erau e...   \n",
       "\n",
       "                                       preprocessed_text  \\\n",
       "16428  your evil tax dollars work  was atf burns ranc...   \n",
       "10459  ulf and all    in article an ulf fan  and what...   \n",
       "\n",
       "                                       preprocessed_data  \n",
       "16428   Re: Your Evil Tax Dollars at Work, was RE: AT...  \n",
       "10459   Re: Ulf and all... erau edu philabs philips a...  "
      ]
     },
     "execution_count": 218,
     "metadata": {},
     "output_type": "execute_result"
    }
   ],
   "source": [
    "X_train.head(2)"
   ]
  },
  {
   "cell_type": "markdown",
   "metadata": {},
   "source": [
    "3. Analyze your text data and pad the sequnce if required. \n",
    "Sequnce length is not restricted, you can use anything of your choice. \n",
    "you need to give the reasoning.\n",
    "\n",
    "4. Do Tokenizer i.e convert text into numbers. please be careful while doing it. \n",
    "if you are using tf.keras \"Tokenizer\" API, it removes the <b>\"_\"</b>, but we need that."
   ]
  },
  {
   "cell_type": "code",
   "execution_count": 219,
   "metadata": {},
   "outputs": [
    {
     "name": "stdout",
     "output_type": "stream",
     "text": [
      "Y Train shape :-  (14121, 20)\n",
      "Y Test shape :-  (4707, 20)\n"
     ]
    }
   ],
   "source": [
    "from sklearn.preprocessing import LabelEncoder\n",
    "import numpy as np\n",
    "\n",
    "Y_train_label = tf.keras.utils.to_categorical(LabelEncoder().fit_transform(y_train), 20)\n",
    "print('Y Train shape :- ',Y_train_label.shape)\n",
    "\n",
    "Y_test_label = tf.keras.utils.to_categorical(LabelEncoder().fit_transform(y_test), 20)\n",
    "print('Y Test shape :- ',Y_test_label.shape)                                                                                                                                                                      "
   ]
  },
  {
   "cell_type": "code",
   "execution_count": 220,
   "metadata": {},
   "outputs": [
    {
     "data": {
      "text/plain": [
       "array([[0., 0., 0., ..., 0., 0., 0.],\n",
       "       [0., 0., 0., ..., 0., 0., 0.],\n",
       "       [0., 0., 0., ..., 1., 0., 0.],\n",
       "       ...,\n",
       "       [0., 0., 0., ..., 0., 0., 0.],\n",
       "       [0., 0., 0., ..., 0., 0., 0.],\n",
       "       [0., 0., 0., ..., 0., 1., 0.]], dtype=float32)"
      ]
     },
     "execution_count": 220,
     "metadata": {},
     "output_type": "execute_result"
    }
   ],
   "source": [
    "Y_train_label"
   ]
  },
  {
   "cell_type": "code",
   "execution_count": 223,
   "metadata": {},
   "outputs": [],
   "source": [
    "np.random.seed(42)\n",
    "\n",
    "token = Tokenizer(filters='!\"#$%&()*+,-/:;<=>?@[\\\\]^`{|}~\\t\\n')   # we are not mentioning '_' here.\n",
    "token.fit_on_texts(X_train['preprocessed_data'])\n",
    "\n",
    "vocab_size = len(token.word_index) + 1\n",
    "\n",
    "encoded_docs_train= token.texts_to_sequences(X_train['preprocessed_data'])\n",
    "encoded_docs_test= token.texts_to_sequences(X_test['preprocessed_data'])"
   ]
  },
  {
   "cell_type": "code",
   "execution_count": 224,
   "metadata": {},
   "outputs": [
    {
     "data": {
      "text/plain": [
       "145865"
      ]
     },
     "execution_count": 224,
     "metadata": {},
     "output_type": "execute_result"
    }
   ],
   "source": [
    "vocab_size"
   ]
  },
  {
   "cell_type": "code",
   "execution_count": 225,
   "metadata": {},
   "outputs": [],
   "source": [
    "max_length_for_padding=[] \n",
    "for i in encoded_docs_train:  \n",
    "    max_length_for_padding.append(len(i))  \n",
    "    \n",
    "max_len = max(max_length_for_padding)\n",
    "\n",
    "padded_docs_train = pad_sequences(encoded_docs_train, maxlen=max_len, padding='post')\n",
    "padded_docs_test = pad_sequences(encoded_docs_test, maxlen=max_len, padding='post')"
   ]
  },
  {
   "cell_type": "markdown",
   "metadata": {},
   "source": [
    "6. For every model use predefined Glove vectors. \n",
    "Don't train any word vectors while Training the model."
   ]
  },
  {
   "cell_type": "code",
   "execution_count": 226,
   "metadata": {},
   "outputs": [
    {
     "name": "stdout",
     "output_type": "stream",
     "text": [
      "Loaded 400000 word vectors.\n"
     ]
    }
   ],
   "source": [
    "embeddings_index = dict()\n",
    "\n",
    "file = open('glove.6B.100d.txt',encoding=\"utf8\")\n",
    "for line in file:\n",
    "    word = line.split()[0]\n",
    "    coef = np.asarray(line.split()[1:], dtype='float32')\n",
    "    embeddings_index[word] = coef\n",
    "file.close()\n",
    "\n",
    "print('Loaded %s word vectors.' % len(embeddings_index))"
   ]
  },
  {
   "cell_type": "code",
   "execution_count": 227,
   "metadata": {},
   "outputs": [],
   "source": [
    "embedding_matrix = np.zeros((vocab_size, 100))\n",
    "\n",
    "for word, i in token.word_index.items():\n",
    "    embedding_vector = embeddings_index.get(word)\n",
    "    if embedding_vector is not None:\n",
    "        embedding_matrix[i] = embedding_vector"
   ]
  },
  {
   "cell_type": "markdown",
   "metadata": {},
   "source": [
    "7. Use \"categorical_crossentropy\" as Loss. \n",
    "\n",
    "8. Use Accuracy and Micro Avgeraged F1 score as your as Key metrics to evaluate your model. "
   ]
  },
  {
   "cell_type": "code",
   "execution_count": 228,
   "metadata": {},
   "outputs": [],
   "source": [
    "%reload_ext tensorboard\n",
    "\n",
    "log_dir = \"documents/logs\" + datetime.datetime.now().strftime(\"%Y%m%d-%H%M%S\")\n",
    "tensor = TensorBoard(log_dir='documents/logs',histogram_freq=1,write_graph=True)\n",
    "\n",
    "class F1_score(tf.keras.callbacks.Callback):\n",
    "    \n",
    "    def __init__(self,validation_data):\n",
    "        self.validation_data = validation_data \n",
    "\n",
    "    def on_train_begin(self, logs={}):\n",
    "        self.f1 = []\n",
    "        self.aucs = []\n",
    "        \n",
    "    def on_epoch_end(self, epoch, logs={}):    \n",
    "        predicted = (np.asarray(self.model.predict(self.validation_data[0]))).round()\n",
    "        target    = self.validation_data[1]\n",
    "        f1_values     = f1_score(target, predicted, average='micro')\n",
    "        auc_values    = roc_auc_score(target, predicted)\n",
    "        \n",
    "        self.f1.append(f1_values)\n",
    "        self.aucs.append(auc_values)\n",
    "        \n",
    "        print(' AUC = {0} and F1 Score = {1}'.format(auc_values,f1_values))"
   ]
  },
  {
   "cell_type": "code",
   "execution_count": 229,
   "metadata": {},
   "outputs": [],
   "source": [
    "# tensorboard_callback = TensorBoard(log_dir=log_dir, histogram_freq=1)\n",
    "\n",
    "checkpoint = ModelCheckpoint(filepath = 'best_model_weights/best_model_L.h5', monitor ='accuracy' ,mode='auto', save_best_only = True , verbose=2) "
   ]
  },
  {
   "cell_type": "markdown",
   "metadata": {},
   "source": [
    "<pre>\n",
    "5. code the model's ( Model-1, Model-2 ) as discussed below \n",
    "and try to optimize that models.  \n",
    "\n",
    "6. For every model use predefined Glove vectors. \n",
    "<b>Don't train any word vectors while Training the model.</b>\n",
    "\n",
    "7. Use \"categorical_crossentropy\" as Loss. \n",
    "\n",
    "8. Use <b>Accuracy and Micro Avgeraged F1 score</b> as your as Key metrics to evaluate your model. \n",
    "\n",
    "9.  Use Tensorboard to plot the loss and Metrics based on the epoches.\n",
    "\n",
    "10. Please save your best model weights in to <b>'best_model_L.h5' ( L = 1 or 2 )</b>. \n",
    "\n",
    "11. You are free to choose any Activation function, learning rate, optimizer.\n",
    "But have to use the same architecture which we are giving below.\n",
    "\n",
    "12. You can add some layer to our architecture but you <b>deletion</b> of layer is not acceptable.\n",
    "\n",
    "13. Try to use <b>Early Stopping</b> technique or any of the callback techniques that you did in the previous assignments.\n",
    "\n",
    "14. For Every model save your model to image ( Plot the model) with shapes \n",
    "and inlcude those images in the notebook markdown cell, \n",
    "upload those imgages to Classroom. You can use \"plot_model\" \n",
    "please refer <a href='https://www.tensorflow.org/api_docs/python/tf/keras/utils/plot_model'>this</a> if you don't know how to plot the model with shapes. \n",
    "</pre>"
   ]
  },
  {
   "cell_type": "markdown",
   "metadata": {},
   "source": [
    "### Model-1: Using 1D convolutions with word embeddings"
   ]
  },
  {
   "cell_type": "code",
   "execution_count": 237,
   "metadata": {},
   "outputs": [
    {
     "name": "stdout",
     "output_type": "stream",
     "text": [
      "Model: \"functional_23\"\n",
      "__________________________________________________________________________________________________\n",
      "Layer (type)                    Output Shape         Param #     Connected to                     \n",
      "==================================================================================================\n",
      "input_13 (InputLayer)           [(None, 8647)]       0                                            \n",
      "__________________________________________________________________________________________________\n",
      "embedding_12 (Embedding)        (None, 8647, 100)    14586500    input_13[0][0]                   \n",
      "__________________________________________________________________________________________________\n",
      "conv1d_78 (Conv1D)              (None, 8631, 13)     22113       embedding_12[0][0]               \n",
      "__________________________________________________________________________________________________\n",
      "conv1d_79 (Conv1D)              (None, 8630, 13)     23413       embedding_12[0][0]               \n",
      "__________________________________________________________________________________________________\n",
      "conv1d_80 (Conv1D)              (None, 8632, 13)     20813       embedding_12[0][0]               \n",
      "__________________________________________________________________________________________________\n",
      "concatenate_18 (Concatenate)    (None, 25893, 13)    0           conv1d_78[0][0]                  \n",
      "                                                                 conv1d_79[0][0]                  \n",
      "                                                                 conv1d_80[0][0]                  \n",
      "__________________________________________________________________________________________________\n",
      "max_pooling1d_33 (MaxPooling1D) (None, 8631, 13)     0           concatenate_18[0][0]             \n",
      "__________________________________________________________________________________________________\n",
      "conv1d_81 (Conv1D)              (None, 8613, 12)     2976        max_pooling1d_33[0][0]           \n",
      "__________________________________________________________________________________________________\n",
      "conv1d_82 (Conv1D)              (None, 8618, 12)     2196        max_pooling1d_33[0][0]           \n",
      "__________________________________________________________________________________________________\n",
      "conv1d_83 (Conv1D)              (None, 8617, 12)     2352        max_pooling1d_33[0][0]           \n",
      "__________________________________________________________________________________________________\n",
      "concatenate_19 (Concatenate)    (None, 25848, 12)    0           conv1d_81[0][0]                  \n",
      "                                                                 conv1d_82[0][0]                  \n",
      "                                                                 conv1d_83[0][0]                  \n",
      "__________________________________________________________________________________________________\n",
      "max_pooling1d_34 (MaxPooling1D) (None, 8616, 12)     0           concatenate_19[0][0]             \n",
      "__________________________________________________________________________________________________\n",
      "dropout_22 (Dropout)            (None, 8616, 12)     0           max_pooling1d_34[0][0]           \n",
      "__________________________________________________________________________________________________\n",
      "max_pooling1d_35 (MaxPooling1D) (None, 2872, 12)     0           dropout_22[0][0]                 \n",
      "__________________________________________________________________________________________________\n",
      "conv1d_84 (Conv1D)              (None, 2861, 15)     2175        max_pooling1d_35[0][0]           \n",
      "__________________________________________________________________________________________________\n",
      "conv1d_85 (Conv1D)              (None, 2861, 15)     2175        max_pooling1d_35[0][0]           \n",
      "__________________________________________________________________________________________________\n",
      "concatenate_20 (Concatenate)    (None, 5722, 15)     0           conv1d_84[0][0]                  \n",
      "                                                                 conv1d_85[0][0]                  \n",
      "__________________________________________________________________________________________________\n",
      "flatten_11 (Flatten)            (None, 85830)        0           concatenate_20[0][0]             \n",
      "__________________________________________________________________________________________________\n",
      "dropout_23 (Dropout)            (None, 85830)        0           flatten_11[0][0]                 \n",
      "__________________________________________________________________________________________________\n",
      "dense_42 (Dense)                (None, 124)          10643044    dropout_23[0][0]                 \n",
      "__________________________________________________________________________________________________\n",
      "dense_43 (Dense)                (None, 20)           2500        dense_42[0][0]                   \n",
      "==================================================================================================\n",
      "Total params: 25,310,257\n",
      "Trainable params: 25,310,257\n",
      "Non-trainable params: 0\n",
      "__________________________________________________________________________________________________\n",
      "None\n"
     ]
    }
   ],
   "source": [
    "# input_text: InputLayers\n",
    "inputLayers =  Input(shape=(max_len,),dtype='int32')\n",
    "\n",
    "# embedding: Embedding\n",
    "emd = Embedding(vocab_size, 100, weights=[embedding_matrix], input_length=max_len, trainable=True)(inputLayers)\n",
    "\n",
    "# three layers of Conv1D with filter size \n",
    "x1 = Conv1D(13,17,  kernel_initializer=tf.keras.initializers.HeUniform(), activation='relu')(emd)\n",
    "x2 = Conv1D(13,18,  kernel_initializer=tf.keras.initializers.HeUniform(), activation='relu')(emd)\n",
    "x3 = Conv1D(13,16,  kernel_initializer=tf.keras.initializers.HeUniform(), activation='relu')(emd)\n",
    "\n",
    "# concatenate1: Concatenate_above_three_layers: concatenate\n",
    "concatenated_layer1 = concatenate([x1,x2,x3],axis=1)\n",
    "\n",
    "# max_poolLayer1 : MaxPooling1D\n",
    "max_pool1 = MaxPooling1D(3)(concatenated_layer1)\n",
    "\n",
    "# Conv1D with filter size 9,4,5\n",
    "x4=Conv1D(12,19,kernel_initializer=tf.keras.initializers.HeUniform(),activation='relu')(max_pool1)\n",
    "x5=Conv1D(12,14,kernel_initializer=tf.keras.initializers.HeUniform(),activation='relu')(max_pool1)\n",
    "x6=Conv1D(12,15,kernel_initializer=tf.keras.initializers.HeUniform(),activation='relu')(max_pool1)\n",
    "\n",
    "# concatenate2: Concatenate_above_three_layers: concatenate\n",
    "concatenated_layer2 =concatenate([x4,x5,x6],axis=1)\n",
    "\n",
    "# max_poolLayer2 : MaxPooling1D\n",
    "max_pool2 = MaxPooling1D(3)(concatenated_layer2)\n",
    "\n",
    "# Dropout: dropout\n",
    "drop_out1=Dropout(0.25)(max_pool2)\n",
    "\n",
    "max_pool3=MaxPooling1D(3)(drop_out1)\n",
    "\n",
    "x7=Conv1D(15,12,kernel_initializer=tf.keras.initializers.HeUniform() ,activation='relu')(max_pool3)\n",
    "x8=Conv1D(15,12,kernel_initializer=tf.keras.initializers.HeUniform() ,activation='relu')(max_pool3)\n",
    "\n",
    "concatenated_layer3 =concatenate([x7,x8],axis=1)\n",
    "flatten=Flatten()(concatenated_layer3)\n",
    "\n",
    "# Dropout: dropout\n",
    "drop_out2=Dropout(0.25)(flatten)\n",
    "\n",
    "# Dense1 : Dense\n",
    "dense_layer1=Dense(124, activation='relu')(drop_out2)\n",
    "outputLayer=Dense(20, activation='softmax')(dense_layer1)\n",
    "\n",
    "opt = tf.keras.optimizers.Adam(learning_rate=0.001)\n",
    "early_stopping = EarlyStopping(monitor='accuracy', min_delta=0.001, patience=2, verbose=1)\n",
    "score=F1_score(validation_data=(padded_docs_test,Y_test_label))\n",
    "\n",
    "# OutputLayer : Dense\n",
    "model = Model(inputs=inputLayers,outputs=outputLayer)\n",
    "# compile the model\n",
    "\n",
    "history=model.compile(optimizer=opt, loss='categorical_crossentropy', metrics=['accuracy'])\n",
    "# summarize the model\n",
    "print(model.summary())"
   ]
  },
  {
   "cell_type": "code",
   "execution_count": 238,
   "metadata": {},
   "outputs": [
    {
     "name": "stdout",
     "output_type": "stream",
     "text": [
      "Epoch 1/10\n",
      "331/331 [==============================] - ETA: 0s - loss: 2.2641 - accuracy: 0.2523 AUC = 0.5874998871616883 and F1 Score = 0.29850746268656714\n",
      "\n",
      "Epoch 00001: accuracy did not improve from 0.42872\n",
      "331/331 [==============================] - 1166s 4s/step - loss: 2.2641 - accuracy: 0.2523 - val_loss: 1.6400 - val_accuracy: 0.4449\n",
      "Epoch 2/10\n",
      "331/331 [==============================] - ETA: 0s - loss: 1.0788 - accuracy: 0.6245 AUC = 0.763603551647611 and F1 Score = 0.6625194401244168\n",
      "\n",
      "Epoch 00002: accuracy improved from 0.42872 to 0.62446, saving model to best_model_weights\\best_model_L.h5\n",
      "331/331 [==============================] - 1158s 3s/step - loss: 1.0788 - accuracy: 0.6245 - val_loss: 0.9134 - val_accuracy: 0.7114\n",
      "Epoch 3/10\n",
      "331/331 [==============================] - ETA: 0s - loss: 0.5166 - accuracy: 0.8229 AUC = 0.8155489902777248 and F1 Score = 0.7310311865216872\n",
      "\n",
      "Epoch 00003: accuracy improved from 0.62446 to 0.82295, saving model to best_model_weights\\best_model_L.h5\n",
      "331/331 [==============================] - 1082s 3s/step - loss: 0.5166 - accuracy: 0.8229 - val_loss: 0.8133 - val_accuracy: 0.7400\n",
      "Epoch 4/10\n",
      "331/331 [==============================] - ETA: 0s - loss: 0.2489 - accuracy: 0.9212 AUC = 0.8525238750322558 and F1 Score = 0.7631046119235095\n",
      "\n",
      "Epoch 00004: accuracy improved from 0.82295 to 0.92125, saving model to best_model_weights\\best_model_L.h5\n",
      "331/331 [==============================] - 1083s 3s/step - loss: 0.2489 - accuracy: 0.9212 - val_loss: 0.8453 - val_accuracy: 0.7613\n",
      "Epoch 5/10\n",
      "331/331 [==============================] - ETA: 0s - loss: 0.1427 - accuracy: 0.9564 AUC = 0.8505287742244908 and F1 Score = 0.7544883303411132\n",
      "\n",
      "Epoch 00005: accuracy improved from 0.92125 to 0.95637, saving model to best_model_weights\\best_model_L.h5\n",
      "331/331 [==============================] - 1080s 3s/step - loss: 0.1427 - accuracy: 0.9564 - val_loss: 0.8826 - val_accuracy: 0.7533\n",
      "Epoch 6/10\n",
      "331/331 [==============================] - ETA: 0s - loss: 0.0635 - accuracy: 0.9828 AUC = 0.875102161762529 and F1 Score = 0.7856986660835339\n",
      "\n",
      "Epoch 00006: accuracy improved from 0.95637 to 0.98281, saving model to best_model_weights\\best_model_L.h5\n",
      "331/331 [==============================] - 1081s 3s/step - loss: 0.0635 - accuracy: 0.9828 - val_loss: 0.9606 - val_accuracy: 0.7899\n",
      "Epoch 7/10\n",
      "331/331 [==============================] - ETA: 0s - loss: 0.0467 - accuracy: 0.9864 AUC = 0.8648674446310354 and F1 Score = 0.7602046369870469\n",
      "\n",
      "Epoch 00007: accuracy improved from 0.98281 to 0.98640, saving model to best_model_weights\\best_model_L.h5\n",
      "331/331 [==============================] - 1221s 4s/step - loss: 0.0467 - accuracy: 0.9864 - val_loss: 1.1527 - val_accuracy: 0.7581\n",
      "Epoch 8/10\n",
      "331/331 [==============================] - ETA: 0s - loss: 0.0526 - accuracy: 0.9850 AUC = 0.8748659981158571 and F1 Score = 0.7811652381469024\n",
      "\n",
      "Epoch 00008: accuracy did not improve from 0.98640\n",
      "331/331 [==============================] - 1082s 3s/step - loss: 0.0526 - accuracy: 0.9850 - val_loss: 1.1343 - val_accuracy: 0.7859\n",
      "Epoch 9/10\n",
      "331/331 [==============================] - ETA: 0s - loss: 0.0484 - accuracy: 0.9856 AUC = 0.8608088269026778 and F1 Score = 0.7470035633300939\n",
      "\n",
      "Epoch 00009: accuracy did not improve from 0.98640\n",
      "331/331 [==============================] - 1078s 3s/step - loss: 0.0484 - accuracy: 0.9856 - val_loss: 1.3514 - val_accuracy: 0.7505\n",
      "Epoch 00009: early stopping\n"
     ]
    },
    {
     "data": {
      "text/plain": [
       "<tensorflow.python.keras.callbacks.History at 0x2722ac83520>"
      ]
     },
     "execution_count": 238,
     "metadata": {},
     "output_type": "execute_result"
    }
   ],
   "source": [
    "model.fit(padded_docs_train, Y_train_label,validation_split=0.25, epochs=10, verbose=1,callbacks=[tensor,early_stopping,score,checkpoint])"
   ]
  },
  {
   "cell_type": "code",
   "execution_count": 239,
   "metadata": {},
   "outputs": [
    {
     "name": "stdout",
     "output_type": "stream",
     "text": [
      "148/148 [==============================] - 31s 206ms/step - loss: 1.3573 - accuracy: 0.7434\n"
     ]
    }
   ],
   "source": [
    "loss, accuracy = model.evaluate(padded_docs_test, Y_test_label)"
   ]
  },
  {
   "cell_type": "code",
   "execution_count": 240,
   "metadata": {},
   "outputs": [
    {
     "data": {
      "text/plain": [
       "74.33609366416931"
      ]
     },
     "execution_count": 240,
     "metadata": {},
     "output_type": "execute_result"
    }
   ],
   "source": [
    "accuracy * 100"
   ]
  },
  {
   "cell_type": "markdown",
   "metadata": {
    "colab_type": "text",
    "id": "9cg4L1V4Yv1d"
   },
   "source": [
    "### Model-2 : Using 1D convolutions with character embedding"
   ]
  },
  {
   "cell_type": "markdown",
   "metadata": {
    "colab_type": "text",
    "id": "2Djg4YVA3oQx"
   },
   "source": [
    "<pre>\n",
    "<pre><img src=\"https://i.ytimg.com/vi/CNY8VjJt-iQ/maxresdefault.jpg\" width=\"70%\">\n",
    "Here are the some papers based on Char-CNN\n",
    " 1. Xiang Zhang, Junbo Zhao, Yann LeCun. <a href=\"http://arxiv.org/abs/1509.01626\">Character-level Convolutional Networks for Text Classification</a>.NIPS 2015\n",
    " 2. Yoon Kim, Yacine Jernite, David Sontag, Alexander M. Rush. <a href=\"https://arxiv.org/abs/1508.06615\">Character-Aware Neural Language Models</a>. AAAI 2016\n",
    " 3. Shaojie Bai, J. Zico Kolter, Vladlen Koltun. <a href=\"https://arxiv.org/pdf/1803.01271.pdf\">An Empirical Evaluation of Generic Convolutional and Recurrent Networks for Sequence Modeling</a>\n",
    " 4. Use the pratrained char embeddings <a href='https://github.com/minimaxir/char-embeddings/blob/master/glove.840B.300d-char.txt'>https://github.com/minimaxir/char-embeddings/blob/master/glove.840B.300d-char.txt</a>\n",
    "</pre>"
   ]
  },
  {
   "cell_type": "code",
   "execution_count": 140,
   "metadata": {},
   "outputs": [],
   "source": [
    "np.random.seed(42)\n",
    "\n",
    "token = Tokenizer(filters='!\"#$%&()*+,-/:;<=>?@[\\\\]^`{|}~\\t\\n',char_level=True,lower=True,num_words=10000)   # we are not mentioning '_' here.\n",
    "token.fit_on_texts(X_train['preprocessed_data'])\n",
    "\n",
    "vocab_size = len(token.word_index) + 1\n",
    "\n",
    "encoded_docs_train= token.texts_to_sequences(X_train['preprocessed_data'])\n",
    "encoded_docs_test= token.texts_to_sequences(X_test['preprocessed_data'])"
   ]
  },
  {
   "cell_type": "code",
   "execution_count": 142,
   "metadata": {},
   "outputs": [],
   "source": [
    "max_length_for_padding=[] \n",
    "for i in encoded_docs_train:  \n",
    "    max_length_for_padding.append(len(i))  \n",
    "    \n",
    "max_len = max(max_length_for_padding)\n",
    "\n",
    "padded_docs_train = pad_sequences(encoded_docs_train, maxlen=max_len, padding='post')\n",
    "padded_docs_test = pad_sequences(encoded_docs_test, maxlen=max_len, padding='post')"
   ]
  },
  {
   "cell_type": "code",
   "execution_count": 143,
   "metadata": {},
   "outputs": [
    {
     "name": "stdout",
     "output_type": "stream",
     "text": [
      "Loaded 94 word vectors.\n"
     ]
    }
   ],
   "source": [
    "embeddings_index = dict()\n",
    "\n",
    "file = open('glove.840B.300d-char.txt')\n",
    "for line in file:\n",
    "    word = line.split()[0]\n",
    "    coef = np.asarray(line.split()[1:], dtype='float32')\n",
    "    embeddings_index[word] = coef\n",
    "file.close()\n",
    "\n",
    "print('Loaded %s word vectors.' % len(embeddings_index))"
   ]
  },
  {
   "cell_type": "code",
   "execution_count": 144,
   "metadata": {},
   "outputs": [],
   "source": [
    "embedding_matrix = np.zeros((vocab_size, 300))\n",
    "\n",
    "for word, i in token.word_index.items():\n",
    "    embedding_vector = embeddings_index.get(word)\n",
    "    if embedding_vector is not None:\n",
    "        embedding_matrix[i] = embedding_vector"
   ]
  },
  {
   "cell_type": "code",
   "execution_count": 145,
   "metadata": {},
   "outputs": [
    {
     "name": "stdout",
     "output_type": "stream",
     "text": [
      "Model: \"functional_13\"\n",
      "_________________________________________________________________\n",
      "Layer (type)                 Output Shape              Param #   \n",
      "=================================================================\n",
      "input_8 (InputLayer)         [(None, 56440)]           0         \n",
      "_________________________________________________________________\n",
      "embedding_7 (Embedding)      (None, 56440, 300)        21300     \n",
      "_________________________________________________________________\n",
      "conv1d_40 (Conv1D)           (None, 56425, 36)         172836    \n",
      "_________________________________________________________________\n",
      "conv1d_41 (Conv1D)           (None, 56414, 24)         10392     \n",
      "_________________________________________________________________\n",
      "max_pooling1d_18 (MaxPooling (None, 28207, 24)         0         \n",
      "_________________________________________________________________\n",
      "conv1d_42 (Conv1D)           (None, 28192, 32)         12320     \n",
      "_________________________________________________________________\n",
      "conv1d_43 (Conv1D)           (None, 28181, 16)         6160      \n",
      "_________________________________________________________________\n",
      "max_pooling1d_19 (MaxPooling (None, 14090, 16)         0         \n",
      "_________________________________________________________________\n",
      "conv1d_44 (Conv1D)           (None, 14083, 28)         3612      \n",
      "_________________________________________________________________\n",
      "conv1d_45 (Conv1D)           (None, 14080, 18)         2034      \n",
      "_________________________________________________________________\n",
      "max_pooling1d_20 (MaxPooling (None, 7040, 18)          0         \n",
      "_________________________________________________________________\n",
      "flatten_6 (Flatten)          (None, 126720)            0         \n",
      "_________________________________________________________________\n",
      "dense_28 (Dense)             (None, 8)                 1013768   \n",
      "_________________________________________________________________\n",
      "dense_29 (Dense)             (None, 32)                288       \n",
      "_________________________________________________________________\n",
      "dropout_12 (Dropout)         (None, 32)                0         \n",
      "_________________________________________________________________\n",
      "dense_30 (Dense)             (None, 128)               4224      \n",
      "_________________________________________________________________\n",
      "dense_31 (Dense)             (None, 256)               33024     \n",
      "_________________________________________________________________\n",
      "dropout_13 (Dropout)         (None, 256)               0         \n",
      "_________________________________________________________________\n",
      "dense_32 (Dense)             (None, 128)               32896     \n",
      "_________________________________________________________________\n",
      "dense_33 (Dense)             (None, 20)                2580      \n",
      "=================================================================\n",
      "Total params: 1,315,434\n",
      "Trainable params: 1,315,434\n",
      "Non-trainable params: 0\n",
      "_________________________________________________________________\n",
      "None\n"
     ]
    }
   ],
   "source": [
    "inputLayers =  Input(shape=(max_len,),dtype='int32')\n",
    "\n",
    "# embedding: Embedding layer to get Char \n",
    "emd = Embedding(vocab_size, 300, weights=[embedding_matrix], input_length=max_len, trainable=True)(inputLayers)\n",
    "\n",
    "# Conv1D with filter size 36,24\n",
    "f1 = Conv1D(filters = 36, kernel_size= 16, activation='relu')(emd)\n",
    "f2 = Conv1D(filters = 24, kernel_size= 12, activation='relu')(f1)\n",
    "\n",
    "mp1 = MaxPooling1D(pool_size=2)(f2)\n",
    "\n",
    "# Conv1D with filter size 32,16\n",
    "f3 = Conv1D(filters = 32, kernel_size= 16, activation='relu')(mp1)\n",
    "f4 = Conv1D(filters = 16, kernel_size= 12, activation='relu')(f3)   \n",
    "mp2 = MaxPooling1D(pool_size=2)(f4)\n",
    "\n",
    "# Conv1D with filter size 28,18\n",
    "f5 = Conv1D(filters = 28, kernel_size= 8, activation='relu')(mp2)\n",
    "f6 = Conv1D(filters = 18, kernel_size= 4, activation='relu')(f5)\n",
    "\n",
    "mp3 = MaxPooling1D(pool_size=2)(f6)\n",
    "flat1 = Flatten()(mp3)\n",
    "\n",
    "# Dense1 : Dense\n",
    "d1 = Dense(8,activation ='relu')(flat1)\n",
    "d2 = Dense(32,activation ='relu')(d1)\n",
    "\n",
    "# Dropout: dropout\n",
    "drop1 = Dropout(0.20)(d2)\n",
    "\n",
    "# Dense2 : Dense\n",
    "d3 = Dense(128,activation ='relu')(drop1)\n",
    "d4 = Dense(256,activation ='relu')(d3)\n",
    "\n",
    "# Dropout2: dropout\n",
    "drop2 = Dropout(0.20)(d4)\n",
    "\n",
    "# Dense3 : Dense\n",
    "d5 = Dense(128,activation ='relu')(drop2)\n",
    "\n",
    "# OutputLayer\n",
    "outputLayer = Dense(20, activation ='softmax')(d5)\n",
    "\n",
    "model = Model(inputs = inputLayers,outputs = outputLayer)\n",
    "\n",
    "opt = tf.keras.optimizers.Adam(learning_rate=0.0001)\n",
    "earlystopping = EarlyStopping(monitor='accuracy', min_delta=0.005, patience=2, verbose=1)\n",
    "score=F1_score(validation_data=(padded_docs_test,Y_test_label))\n",
    "\n",
    "# compile the model\n",
    "model.compile(optimizer=opt, loss='categorical_crossentropy', metrics=['accuracy'])\n",
    "\n",
    "# summarize the model\n",
    "print(model.summary())"
   ]
  },
  {
   "cell_type": "code",
   "execution_count": 146,
   "metadata": {},
   "outputs": [
    {
     "name": "stdout",
     "output_type": "stream",
     "text": [
      "Epoch 1/10\n",
      "442/442 [==============================] - ETA: 0s - loss: 2.9654 - accuracy: 0.0696  AUC = 0.5 and F1 Score = 0.0\n",
      "\n",
      "Epoch 00001: accuracy improved from -inf to 0.06961, saving model to best_model_weights\\best_model_L.h5\n",
      "442/442 [==============================] - 8594s 19s/step - loss: 2.9654 - accuracy: 0.0696\n",
      "Epoch 2/10\n",
      "442/442 [==============================] - ETA: 0s - loss: 2.9312 - accuracy: 0.0814  AUC = 0.5 and F1 Score = 0.0\n",
      "\n",
      "Epoch 00002: accuracy improved from 0.06961 to 0.08144, saving model to best_model_weights\\best_model_L.h5\n",
      "442/442 [==============================] - 8546s 19s/step - loss: 2.9312 - accuracy: 0.0814\n",
      "Epoch 3/10\n",
      "442/442 [==============================] - ETA: 0s - loss: 2.9210 - accuracy: 0.0836  AUC = 0.5 and F1 Score = 0.0\n",
      "\n",
      "Epoch 00003: accuracy improved from 0.08144 to 0.08356, saving model to best_model_weights\\best_model_L.h5\n",
      "442/442 [==============================] - 8548s 19s/step - loss: 2.9210 - accuracy: 0.0836\n",
      "Epoch 4/10\n",
      "442/442 [==============================] - ETA: 0s - loss: 2.9130 - accuracy: 0.0840  AUC = 0.5 and F1 Score = 0.0\n",
      "\n",
      "Epoch 00004: accuracy improved from 0.08356 to 0.08399, saving model to best_model_weights\\best_model_L.h5\n",
      "442/442 [==============================] - 8559s 19s/step - loss: 2.9130 - accuracy: 0.0840\n",
      "Epoch 00004: early stopping\n"
     ]
    },
    {
     "data": {
      "text/plain": [
       "<tensorflow.python.keras.callbacks.History at 0x27200d5ad90>"
      ]
     },
     "execution_count": 146,
     "metadata": {},
     "output_type": "execute_result"
    }
   ],
   "source": [
    "model.fit(padded_docs_train, Y_train_label, epochs=10, verbose=1,callbacks=[tensor,earlystopping,score,checkpoint])"
   ]
  },
  {
   "cell_type": "code",
   "execution_count": 147,
   "metadata": {},
   "outputs": [
    {
     "name": "stdout",
     "output_type": "stream",
     "text": [
      "148/148 [==============================] - 353s 2s/step - loss: 2.9106 - accuracy: 0.0884\n"
     ]
    }
   ],
   "source": [
    "loss, accuracy = model.evaluate(padded_docs_test, Y_test_label)"
   ]
  },
  {
   "cell_type": "code",
   "execution_count": 175,
   "metadata": {},
   "outputs": [
    {
     "data": {
      "text/plain": [
       "8.837901055812836"
      ]
     },
     "execution_count": 175,
     "metadata": {},
     "output_type": "execute_result"
    }
   ],
   "source": [
    "accuracy*100"
   ]
  },
  {
   "cell_type": "markdown",
   "metadata": {},
   "source": [
    "## Conclusion"
   ]
  },
  {
   "cell_type": "markdown",
   "metadata": {},
   "source": [
    "1. Difference between Character Embedding and Word Embedding is that Character Embedding can build any word as long as those character are included.\n",
    "2. There are about 71 English-language characters in common usage if we include all punctuation marks. By contrast, a vocabulary is many thousands of words. Beacuse of this, Word Embedding(model 1) works better than character Embedding(Model 2)\n"
   ]
  },
  {
   "cell_type": "code",
   "execution_count": null,
   "metadata": {},
   "outputs": [],
   "source": []
  },
  {
   "cell_type": "code",
   "execution_count": null,
   "metadata": {},
   "outputs": [],
   "source": []
  },
  {
   "cell_type": "code",
   "execution_count": null,
   "metadata": {},
   "outputs": [],
   "source": []
  }
 ],
 "metadata": {
  "colab": {
   "collapsed_sections": [],
   "name": "Text Classification Assignment.ipynb",
   "provenance": []
  },
  "kernelspec": {
   "display_name": "Python 3 (ipykernel)",
   "language": "python",
   "name": "python3"
  },
  "language_info": {
   "codemirror_mode": {
    "name": "ipython",
    "version": 3
   },
   "file_extension": ".py",
   "mimetype": "text/x-python",
   "name": "python",
   "nbconvert_exporter": "python",
   "pygments_lexer": "ipython3",
   "version": "3.8.12"
  }
 },
 "nbformat": 4,
 "nbformat_minor": 1
}
